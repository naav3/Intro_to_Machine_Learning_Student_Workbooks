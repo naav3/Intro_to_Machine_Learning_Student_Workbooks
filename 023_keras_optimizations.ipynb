{
  "cells": [
    {
      "cell_type": "code",
      "execution_count": 1,
      "metadata": {
        "id": "PTC5srJ2bYG9"
      },
      "outputs": [],
      "source": [
        "import numpy as np\n",
        "import pandas as pd\n",
        "import tensorflow as tf\n",
        "from tensorflow import keras \n",
        "from tensorflow.keras import layers\n",
        "#from tensorflow.keras import Sequential\n",
        "#from tensorflow.keras import Dense, Dropout\n",
        "from keras.models import Sequential\n",
        "from keras.layers import Dense, Dropout, Flatten, InputLayer, Reshape\n",
        "from sklearn.model_selection import train_test_split\n",
        "from sklearn.metrics import mean_absolute_error\n",
        "from sklearn.preprocessing import StandardScaler\n",
        "from keras import metrics\n",
        "\n",
        "from keras.utils import np_utils\n",
        "\n",
        "import matplotlib as mpl\n",
        "import matplotlib.pyplot as plt\n",
        "from sklearn.decomposition import TruncatedSVD\n",
        "import seaborn as sns"
      ]
    },
    {
      "cell_type": "code",
      "execution_count": 2,
      "metadata": {
        "id": "kt2r1tfRg0cj"
      },
      "outputs": [],
      "source": [
        "# Helper to plot loss\n",
        "def plot_loss(history):\n",
        "  plt.plot(history.history['loss'], label='loss')\n",
        "  plt.plot(history.history['val_loss'], label='val_loss')\n",
        "  plt.legend()\n",
        "  plt.grid(True)"
      ]
    },
    {
      "cell_type": "markdown",
      "metadata": {
        "id": "SS8tDLiFbYG_"
      },
      "source": [
        "# Keras and Tensorflow Optimizations\n",
        "\n",
        "There are several things that we can do to make our networks a bit better. Unfortunately for much of this there aren't definitive answers for \"what is the best choice\", so we do have to do some trial and error, but we can use some guidelines to get us started in the right direction. "
      ]
    },
    {
      "cell_type": "markdown",
      "metadata": {
        "id": "tQLYUA1XbYHB"
      },
      "source": [
        "## Load MNIST Data\n",
        "\n",
        "We can use the MNIST digit dataset for testing, since it is reasonably large. "
      ]
    },
    {
      "cell_type": "code",
      "execution_count": 3,
      "metadata": {
        "colab": {
          "base_uri": "https://localhost:8080/"
        },
        "id": "cGygrQlobYHC",
        "outputId": "e48ea85c-2032-4ddc-85bf-4a02dd76b7f4"
      },
      "outputs": [
        {
          "name": "stdout",
          "output_type": "stream",
          "text": [
            "(60000, 28, 28)\n",
            "Epoch 1/10\n",
            "1500/1500 [==============================] - 8s 5ms/step - loss: 0.2246 - accuracy: 0.9339 - val_loss: 0.1223 - val_accuracy: 0.9647\n",
            "Epoch 2/10\n",
            "1500/1500 [==============================] - 7s 5ms/step - loss: 0.0874 - accuracy: 0.9729 - val_loss: 0.0982 - val_accuracy: 0.9721\n",
            "Epoch 3/10\n",
            "1500/1500 [==============================] - 9s 6ms/step - loss: 0.0578 - accuracy: 0.9819 - val_loss: 0.0827 - val_accuracy: 0.9743\n",
            "Epoch 4/10\n",
            "1500/1500 [==============================] - 9s 6ms/step - loss: 0.0390 - accuracy: 0.9879 - val_loss: 0.0972 - val_accuracy: 0.9730\n",
            "Epoch 5/10\n",
            "1500/1500 [==============================] - 9s 6ms/step - loss: 0.0283 - accuracy: 0.9909 - val_loss: 0.0848 - val_accuracy: 0.9765\n",
            "Epoch 6/10\n",
            "1500/1500 [==============================] - 10s 6ms/step - loss: 0.0223 - accuracy: 0.9928 - val_loss: 0.0896 - val_accuracy: 0.9759\n",
            "Epoch 7/10\n",
            "1500/1500 [==============================] - 10s 6ms/step - loss: 0.0180 - accuracy: 0.9940 - val_loss: 0.0891 - val_accuracy: 0.9769\n",
            "Epoch 8/10\n",
            "1500/1500 [==============================] - 10s 6ms/step - loss: 0.0116 - accuracy: 0.9964 - val_loss: 0.1075 - val_accuracy: 0.9757\n",
            "Epoch 9/10\n",
            "1500/1500 [==============================] - 10s 7ms/step - loss: 0.0138 - accuracy: 0.9954 - val_loss: 0.0916 - val_accuracy: 0.9772\n",
            "Epoch 10/10\n",
            "1500/1500 [==============================] - 10s 7ms/step - loss: 0.0106 - accuracy: 0.9966 - val_loss: 0.1088 - val_accuracy: 0.9773\n",
            "313/313 [==============================] - 1s 1ms/step - loss: 0.0936 - accuracy: 0.9781\n"
          ]
        },
        {
          "data": {
            "image/png": "[encoded data removed]",
            "text/plain": [
              "<Figure size 432x288 with 1 Axes>"
            ]
          },
          "metadata": {
            "needs_background": "light"
          },
          "output_type": "display_data"
        }
      ],
      "source": [
        "# Load MNIST dataset\n",
        "mnist = keras.datasets.mnist\n",
        "(train_images, train_labels), (test_images, test_labels) = mnist.load_data()\n",
        "\n",
        "# Normalize the input image so that each pixel value is between 0 and 1.\n",
        "train_images = train_images / 255.0\n",
        "test_images = test_images / 255.0\n",
        "\n",
        "print(train_images.shape)\n",
        "\n",
        "train_labels = np_utils.to_categorical(train_labels)\n",
        "test_labels = np_utils.to_categorical(test_labels)\n",
        "\n",
        "model = keras.Sequential()\n",
        "model.add(InputLayer(input_shape=(28, 28)))\n",
        "model.add(Flatten())\n",
        "model.add(Dense(512, activation='relu'))\n",
        "model.add(Dense(10, activation=\"softmax\"))\n",
        "\n",
        "# Train the digit classification model\n",
        "model.compile(optimizer='adam', loss=\"categorical_crossentropy\", metrics='accuracy')\n",
        "\n",
        "train_log = model.fit(\n",
        "  train_images,\n",
        "  train_labels,\n",
        "  epochs=10,\n",
        "  validation_split=0.2,\n",
        ")\n",
        "model.evaluate(test_images, test_labels)\n",
        "plot_loss(train_log)"
      ]
    },
    {
      "cell_type": "markdown",
      "metadata": {
        "id": "hsycEGiGbYHE"
      },
      "source": [
        "## Prequel - Saving and Loading Models\n",
        "\n",
        "As we've seen, models can take a long time to train in many cases. Like with the sklearn models, we can save and load ours as they are trained and reused. This is a pretty integral part of making neural network models usable, so it is pretty easy. \n",
        "\n",
        "In addition to this we often see models saved in the h5 format, which just saves slightly less stuff along with the model. If we are using models trained elsewhere this format is very common. "
      ]
    },
    {
      "cell_type": "code",
      "execution_count": 4,
      "metadata": {
        "colab": {
          "base_uri": "https://localhost:8080/"
        },
        "id": "G2PSIZDbbYHE",
        "outputId": "37aa2093-e7d5-4680-fac9-ba4045372d96"
      },
      "outputs": [
        {
          "name": "stderr",
          "output_type": "stream",
          "text": [
            "WARNING:absl:Found untraced functions such as _update_step_xla while saving (showing 1 of 1). These functions will not be directly callable after loading.\n"
          ]
        },
        {
          "name": "stdout",
          "output_type": "stream",
          "text": [
            "INFO:tensorflow:Assets written to: model_path\\assets\n"
          ]
        },
        {
          "name": "stderr",
          "output_type": "stream",
          "text": [
            "INFO:tensorflow:Assets written to: model_path\\assets\n"
          ]
        }
      ],
      "source": [
        "# Save my model\n",
        "model.save('model_path')\n",
        "model = keras.models.load_model('model_path')"
      ]
    },
    {
      "cell_type": "code",
      "execution_count": 5,
      "metadata": {
        "id": "lEJgmNFYbYHE"
      },
      "outputs": [],
      "source": [
        "# Calling `save('my_model.h5')` creates a h5 file `my_model.h5`.\n",
        "model.save(\"my_h5_model.h5\")\n",
        "\n",
        "# It can be used to reconstruct the model identically.\n",
        "reconstructed_model = keras.models.load_model(\"my_h5_model.h5\")"
      ]
    },
    {
      "attachments": {},
      "cell_type": "markdown",
      "metadata": {
        "id": "DoRkV4nTbYHF"
      },
      "source": [
        "## Network Size\n",
        "\n",
        "Probably the first question that we will think of when building networks through Tensorflow is \"how big should it be\"? This is a very big question, and one of those ones without a real answer. We can put some guidelines in place to help us though. \n",
        "\n",
        "### What Does the Size Mean?\n",
        "\n",
        "The size of a neural network is also known as the capacity. We can relate it roughly to the size of our first model, the tree. The larger a network is the higher its capacity to learn. This is similar to a tree, the larger the tree, the more fitted it can become to the training data. \n",
        "\n",
        "### What Size to Use?\n",
        "\n",
        "We can start with a few guidelines to have a reasonably sized neural network. These steps do not ensure an optimal solution, but they'll get us started. There really is not a prescribed method for calculating the optimal network size (beleive me, I've looked), but there are several rules of thumb we can build together to get a rough estimate of a starting point for sizing:\n",
        "\n",
        "<ul>\n",
        "<li> Start with an input layer that is either\n",
        "    <ul>\n",
        "    <li> The width of the data, if the feature set is relatively small. \n",
        "    <li> A reasonably large number if the feature set is large. \n",
        "    <li> We don't have a true diving line, but 512 is a reasonable value to try for an upper end, at least at first. \n",
        "    </ul>\n",
        "<li> Add 1 or 2 hidden layers of the same size and observe the results. We want to keep the model smaller if making it larger doesn't improve things, so first we shoudl see how good of a job a small model does. If the data is very large, skipping past the 1 layer step may save some time since we can predict that we can do better with a larger model in advance. \n",
        "<li> Increase layers of the same size until we get some overfitting and the training loss flattens. We want to reach the point where the model is getting to be excellent at predicting the training data. This is something we can see in the plot by noticing that the validation loss flatlines or starts to get worse. The training loss flattening is an indication that the model is not getting any better at learning the training data; we can use early stopping with a loose patience setting on training loss and lots of epochs to find this. \n",
        "<li> Add regularization steps to cut down that overfitting. We can try regularization and dropouts to cut down on that overfitting. We probably want to try a few options, parameters, and combinations here, there's not really a way to know in advance which regularization will work best on our data. \n",
        "<li> Do a test of \"funneling\" the layer size, potentially adding more layers. The traditional configuration of layers is to gradually decrease the size from the input layer towards the output layer. There is open debate on if this is better than having layers that are all the same size. We can play with this a little to see if results improve or not. \n",
        "<li> Use pruning. Much like a tree we can prune back a model to fight overfitting. \n",
        "</ul>\n",
        "\n",
        "### Height vs Width\n",
        "\n",
        "Another begged question is should we make networks wider (more neurons) or deeper (more layers)? To that effect, we can also think about what happens as layers are added. Each layer allows the network to learn a different representation of the data, and if we flash back to the simple logistic regression and XOR examples, each layer allows the model to capture relationships that are more complex:\n",
        "<ul>\n",
        "<li> No hidden layers - linear relationships only. \n",
        "<li> 1 or more hidden layers - nonlinear relationships, of increasing complexity.\n",
        "</ul>\n",
        "\n",
        "So the number of layers in our model directly relates to the complexity of relationships that we can capture. This doesn't directly mean that more layers are better, but it generally means that we want the number of layers to mirror the \"complexity\" of the data, though complexity is a term with no exact definition or metric here. Once again, there's no universal answer on the balance between width of layers and number of layers, but the general evidence leans towards more layers. There are several reasons for this, none of them definitive, but taken as a whole they add up to a strong case:\n",
        "\n",
        "<ul>\n",
        "<li> Ability to learn different representation of the data - this will be more clear next time when we start to look at some image specific neural networks, but one of the cool features of neural networks is that at each layer the network \"sees\" a different representation of the data, as it goes through each round of transformations. This has the effect of allowing it to identify different features at each layer, and use those features to make more and more accurate predictions. We'll examine this more soon. \n",
        "<li> Avoiding overfitting - extremely wide neural networks tend towards overfitting the training data and not generalizing as well to new data. \n",
        "<li> Ability to add interim steps - with a multi layer network we can add multiple steps such as regularization or dropouts, again to fight overfitting. \n",
        "<li> Automatic feature selection - deep neural networks will automatically perform a type of feature selection as the least important features are minimized in their importance. This is an emerging area of research - some people have argued that well designed neural networks can remove the need for feature selection, and neural networks are being created to be feature selection tools. We can see this illustrated most clearly with images again, we feed a network an entire image, and get a prediction. Note that this isn't a total rejection of feature selection for neural networks, improving the feature set will impact neural network models just as it will for ordinary models; with neural networks we just have the potential for the network to \"cover for mistakes\" in the features. This is more dramatic as data size and network size increase. \n",
        "<li> Results - deep learning has become a common term recently for a reason, due to the success of deep neural networks with many layers. Most of the cool stuff that we see coming from AI such as image recognition, translation, and self navigating robots are the result of deep learning networks. In practice these networks have tended to outperform shallower ones, especially in more complex tasks. \n",
        "</ul>\n",
        "\n",
        "### Overfitting and Underfitting\n",
        "\n",
        "Why not make a model that is both very wide and very deep? This will tend to overfit as it can \"memorize\" the training data. With large datasets we do see very large models in some cases, since the more data we have, the more fitting we can handle. With large datasets and huge models, the training time can potentially explode, so we have to be careful. This is similar to what we saw with unlimited size in trees, we can eventually create a model large enough to memorize the training data. On the whole, the model capacity can be thought of similarly to the size of a tree. If we have large amounts of complex data, we want a model that has a very high capacity, as the relationships are complicated and we have enough data to mitigate overfitting. If we have smaller or more simple data, we want a smaller model, as a large one will overfit our data. \n",
        "\n",
        "Finding the \"optimal\" size is still somewhat of an art, combined with patience for trial and error. <b>The easiest starting point is probably to create a model that can potentially overfit, though not comically large, then use some regularization techniques and early stopping to find the optimal fit.</b> We should also note that it is possible and reasonable that models of different sizes and configurations tend to converge on similar levels of performace. These neural networks are extremely flexible in how they learn during the training process, so they can \"learn around\" some degree of design decisions in a way that is more dramatic than our previous models. "
      ]
    },
    {
      "cell_type": "code",
      "execution_count": 6,
      "metadata": {
        "colab": {
          "base_uri": "https://localhost:8080/"
        },
        "id": "e-CRvieaiZI2",
        "outputId": "8c109988-428d-481d-d54e-b8eb1954cb2a"
      },
      "outputs": [
        {
          "name": "stdout",
          "output_type": "stream",
          "text": [
            "Epoch 1/100\n",
            "1500/1500 [==============================] - 24s 16ms/step - loss: 0.2256 - accuracy: 0.9306 - val_loss: 0.1254 - val_accuracy: 0.9620\n",
            "Epoch 2/100\n",
            "1500/1500 [==============================] - 25s 16ms/step - loss: 0.1090 - accuracy: 0.9660 - val_loss: 0.1235 - val_accuracy: 0.9647\n",
            "Epoch 3/100\n",
            "1500/1500 [==============================] - 24s 16ms/step - loss: 0.0829 - accuracy: 0.9744 - val_loss: 0.1024 - val_accuracy: 0.9724\n",
            "Epoch 4/100\n",
            "1500/1500 [==============================] - 25s 17ms/step - loss: 0.0691 - accuracy: 0.9784 - val_loss: 0.0915 - val_accuracy: 0.9749\n",
            "Epoch 5/100\n",
            "1500/1500 [==============================] - 25s 17ms/step - loss: 0.0577 - accuracy: 0.9820 - val_loss: 0.0831 - val_accuracy: 0.9776\n",
            "Epoch 6/100\n",
            "1500/1500 [==============================] - 24s 16ms/step - loss: 0.0502 - accuracy: 0.9847 - val_loss: 0.1167 - val_accuracy: 0.9724\n",
            "Epoch 7/100\n",
            "1500/1500 [==============================] - 24s 16ms/step - loss: 0.0493 - accuracy: 0.9850 - val_loss: 0.0937 - val_accuracy: 0.9778\n",
            "Epoch 8/100\n",
            "1500/1500 [==============================] - 25s 17ms/step - loss: 0.0428 - accuracy: 0.9870 - val_loss: 0.1041 - val_accuracy: 0.9772\n",
            "Epoch 9/100\n",
            "1500/1500 [==============================] - 25s 17ms/step - loss: 0.0404 - accuracy: 0.9881 - val_loss: 0.1143 - val_accuracy: 0.9758\n",
            "Epoch 10/100\n",
            "1500/1500 [==============================] - 25s 17ms/step - loss: 0.0397 - accuracy: 0.9882 - val_loss: 0.1121 - val_accuracy: 0.9747\n",
            "313/313 [==============================] - 1s 4ms/step - loss: 0.0742 - accuracy: 0.9783\n"
          ]
        },
        {
          "data": {
            "image/png": "[encoded data removed]",
            "text/plain": [
              "<Figure size 432x288 with 1 Axes>"
            ]
          },
          "metadata": {
            "needs_background": "light"
          },
          "output_type": "display_data"
        }
      ],
      "source": [
        "# Model\n",
        "model = keras.Sequential()\n",
        "model.add(InputLayer(input_shape=(28, 28)))\n",
        "model.add(Flatten())\n",
        "model.add(Dense(784, activation='relu'))\n",
        "model.add(Dropout(0.2))\n",
        "model.add(Dense(784, activation='relu'))\n",
        "model.add(Dropout(0.2))\n",
        "model.add(Dense(10, activation=\"softmax\"))\n",
        "\n",
        "callback = tf.keras.callbacks.EarlyStopping(monitor='val_loss', patience=5, restore_best_weights=True) \n",
        "\n",
        "# Train the digit classification model\n",
        "model.compile(optimizer='adam', loss=\"categorical_crossentropy\", metrics='accuracy')\n",
        "\n",
        "train_log = model.fit(\n",
        "  train_images,\n",
        "  train_labels,\n",
        "  epochs=100,\n",
        "  validation_split=0.2,\n",
        "  callbacks=[callback]\n",
        ")\n",
        "model.evaluate(test_images, test_labels)\n",
        "plot_loss(train_log)"
      ]
    },
    {
      "cell_type": "code",
      "execution_count": 7,
      "metadata": {
        "colab": {
          "base_uri": "https://localhost:8080/"
        },
        "id": "ZJkWGpsmbYHG",
        "outputId": "cda23fac-98c0-4d7d-d016-56d69a369bda"
      },
      "outputs": [
        {
          "name": "stdout",
          "output_type": "stream",
          "text": [
            "Epoch 1/100\n",
            "1500/1500 [==============================] - 26s 17ms/step - loss: 0.2849 - accuracy: 0.9131 - val_loss: 0.1364 - val_accuracy: 0.9606\n",
            "Epoch 2/100\n",
            "1500/1500 [==============================] - 25s 17ms/step - loss: 0.1493 - accuracy: 0.9576 - val_loss: 0.1086 - val_accuracy: 0.9697\n",
            "Epoch 3/100\n",
            "1500/1500 [==============================] - 26s 17ms/step - loss: 0.1213 - accuracy: 0.9651 - val_loss: 0.1064 - val_accuracy: 0.9693\n",
            "Epoch 4/100\n",
            "1500/1500 [==============================] - 25s 17ms/step - loss: 0.1034 - accuracy: 0.9717 - val_loss: 0.1171 - val_accuracy: 0.9718\n",
            "Epoch 5/100\n",
            "1500/1500 [==============================] - 25s 17ms/step - loss: 0.0876 - accuracy: 0.9761 - val_loss: 0.1060 - val_accuracy: 0.9724\n",
            "Epoch 6/100\n",
            "1500/1500 [==============================] - 24s 16ms/step - loss: 0.0847 - accuracy: 0.9770 - val_loss: 0.0959 - val_accuracy: 0.9767\n",
            "Epoch 7/100\n",
            "1500/1500 [==============================] - 25s 17ms/step - loss: 0.0763 - accuracy: 0.9791 - val_loss: 0.1072 - val_accuracy: 0.9741\n",
            "Epoch 8/100\n",
            "1500/1500 [==============================] - 26s 17ms/step - loss: 0.0677 - accuracy: 0.9824 - val_loss: 0.1111 - val_accuracy: 0.9763\n",
            "Epoch 9/100\n",
            "1500/1500 [==============================] - 25s 17ms/step - loss: 0.0690 - accuracy: 0.9821 - val_loss: 0.1000 - val_accuracy: 0.9790\n",
            "Epoch 10/100\n",
            "1500/1500 [==============================] - 26s 17ms/step - loss: 0.0627 - accuracy: 0.9839 - val_loss: 0.1071 - val_accuracy: 0.9758\n",
            "Epoch 11/100\n",
            "1500/1500 [==============================] - 25s 16ms/step - loss: 0.0572 - accuracy: 0.9849 - val_loss: 0.1030 - val_accuracy: 0.9776\n",
            "313/313 [==============================] - 1s 2ms/step - loss: 0.0888 - accuracy: 0.9770\n"
          ]
        },
        {
          "data": {
            "image/png": "[encoded data removed]",
            "text/plain": [
              "<Figure size 432x288 with 1 Axes>"
            ]
          },
          "metadata": {
            "needs_background": "light"
          },
          "output_type": "display_data"
        }
      ],
      "source": [
        "# Bigger Model\n",
        "model = keras.Sequential()\n",
        "model.add(InputLayer(input_shape=(28, 28)))\n",
        "model.add(Flatten())\n",
        "model.add(Dense(512, activation='relu'))\n",
        "model.add(Dropout(0.2))\n",
        "model.add(Dense(512, activation='relu'))\n",
        "model.add(Dropout(0.2))\n",
        "model.add(Dense(512, activation='relu'))\n",
        "model.add(Dropout(0.2))\n",
        "model.add(Dense(512, activation='relu'))\n",
        "model.add(Dropout(0.2))\n",
        "model.add(Dense(10, activation=\"softmax\"))\n",
        "\n",
        "callback = tf.keras.callbacks.EarlyStopping(monitor='val_loss', patience=5, restore_best_weights=True) \n",
        "\n",
        "# Train the digit classification model\n",
        "model.compile(optimizer='adam', loss=\"categorical_crossentropy\", metrics='accuracy')\n",
        "\n",
        "train_log = model.fit(\n",
        "  train_images,\n",
        "  train_labels,\n",
        "  epochs=100,\n",
        "  validation_split=0.2,\n",
        "  callbacks=[callback]\n",
        ")\n",
        "model.evaluate(test_images, test_labels)\n",
        "plot_loss(train_log)"
      ]
    },
    {
      "cell_type": "code",
      "execution_count": 8,
      "metadata": {
        "colab": {
          "base_uri": "https://localhost:8080/"
        },
        "id": "cmRw70jwga-g",
        "outputId": "c6dacb57-0449-40b7-e461-457f48745d70"
      },
      "outputs": [
        {
          "name": "stdout",
          "output_type": "stream",
          "text": [
            "Epoch 1/100\n",
            "1500/1500 [==============================] - 15s 9ms/step - loss: 0.3786 - accuracy: 0.8911 - val_loss: 0.1681 - val_accuracy: 0.9533\n",
            "Epoch 2/100\n",
            "1500/1500 [==============================] - 16s 10ms/step - loss: 0.1803 - accuracy: 0.9536 - val_loss: 0.1473 - val_accuracy: 0.9601\n",
            "Epoch 3/100\n",
            "1500/1500 [==============================] - 16s 10ms/step - loss: 0.1336 - accuracy: 0.9646 - val_loss: 0.1061 - val_accuracy: 0.9722\n",
            "Epoch 4/100\n",
            "1500/1500 [==============================] - 15s 10ms/step - loss: 0.1169 - accuracy: 0.9699 - val_loss: 0.1045 - val_accuracy: 0.9731\n",
            "Epoch 5/100\n",
            "1500/1500 [==============================] - 15s 10ms/step - loss: 0.1011 - accuracy: 0.9741 - val_loss: 0.0926 - val_accuracy: 0.9740\n",
            "Epoch 6/100\n",
            "1500/1500 [==============================] - 15s 10ms/step - loss: 0.0867 - accuracy: 0.9775 - val_loss: 0.0977 - val_accuracy: 0.9756\n",
            "Epoch 7/100\n",
            "1500/1500 [==============================] - 15s 10ms/step - loss: 0.0822 - accuracy: 0.9788 - val_loss: 0.1052 - val_accuracy: 0.9766\n",
            "Epoch 8/100\n",
            "1500/1500 [==============================] - 15s 10ms/step - loss: 0.0737 - accuracy: 0.9812 - val_loss: 0.1068 - val_accuracy: 0.9767\n",
            "Epoch 9/100\n",
            "1500/1500 [==============================] - 15s 10ms/step - loss: 0.0631 - accuracy: 0.9830 - val_loss: 0.1063 - val_accuracy: 0.9758\n",
            "Epoch 10/100\n",
            "1500/1500 [==============================] - 15s 10ms/step - loss: 0.0624 - accuracy: 0.9834 - val_loss: 0.1132 - val_accuracy: 0.9750\n",
            "313/313 [==============================] - 1s 2ms/step - loss: 0.0839 - accuracy: 0.9774\n"
          ]
        },
        {
          "data": {
            "image/png": "[encoded data removed]",
            "text/plain": [
              "<Figure size 432x288 with 1 Axes>"
            ]
          },
          "metadata": {
            "needs_background": "light"
          },
          "output_type": "display_data"
        }
      ],
      "source": [
        "# Tapered Model\n",
        "model = keras.Sequential()\n",
        "model.add(InputLayer(input_shape=(28, 28)))\n",
        "model.add(Flatten())\n",
        "model.add(Dense(500, activation='relu'))\n",
        "model.add(Dropout(0.2))\n",
        "model.add(Dense(350, activation='relu'))\n",
        "model.add(Dropout(0.2))\n",
        "model.add(Dense(200, activation='relu'))\n",
        "model.add(Dropout(0.2))\n",
        "model.add(Dense(100, activation='relu'))\n",
        "model.add(Dropout(0.2))\n",
        "model.add(Dense(50, activation='relu'))\n",
        "model.add(Dropout(0.2))\n",
        "model.add(Dense(10, activation=\"softmax\"))\n",
        "\n",
        "callback = tf.keras.callbacks.EarlyStopping(monitor='val_loss', patience=5, restore_best_weights=True) \n",
        "\n",
        "# Train the digit classification model\n",
        "model.compile(optimizer='adam', loss=\"categorical_crossentropy\", metrics='accuracy')\n",
        "\n",
        "train_log = model.fit(\n",
        "  train_images,\n",
        "  train_labels,\n",
        "  epochs=100,\n",
        "  validation_split=0.2,\n",
        "  callbacks=[callback]\n",
        ")\n",
        "model.evaluate(test_images, test_labels)\n",
        "plot_loss(train_log)"
      ]
    },
    {
      "attachments": {},
      "cell_type": "markdown",
      "metadata": {
        "id": "LwRjUyBMbYHG"
      },
      "source": [
        "## Epochs and Batch Sizes\n",
        "\n",
        "![Batch Sizes](images/iterations_epoch.webp \"Batch Sizes\")\n",
        "\n",
        "### Epochs\n",
        "\n",
        "Each epoch is a run through all of the training data. Epochs are simple, we can set a large number and use early stopping to cut things off when we've reached the best result. \n",
        "\n",
        "### Batch Sizes\n",
        "\n",
        "Batch size determines how many records are processed before the gradients are updated - i.e. the number of records between one forward and backwards pass. The batch sizes are a matter of very open debate for the optimal solution. At the high end, batch sizes are limited by what can fit in memory. When dealing with very large data this may matter as a batch that is a small fraction of the data may be a massive absolute size. At the lower end using smaller batches gives the same effect as it does when we looked at regular gradient descent - the gradients become less stable as we are relying on a smaller number of records. In reading more about batch sizes I want to update my recommendation to be even smaller than the 50 to 150 I suggested before, down to less than 100, even as small as into the single digits. There is research that smaller batch sizes tend to produce models that generalize better than ones with larger batches. \n",
        "\n",
        "Larger batch sizes do tend to be processed more quickly, sometimes substantially so, as the hardware is better able to be \"saturated\" with data to process. In big data scenarios, this can matter. One thing that you see in practice is that the GPUs (or similar) that are used to train neural networks have a certain amount of memory, and the batch size is limited by that memory. When doing something that involves large images or video, or similar, this can be a real area for concern. For us, these constraints won't really come up, but it's good to be aware of them. \n",
        "\n",
        "Dont' stress too much on batch size, this is really something that needs to be grid searched to find a great answer and in scenarios where it actually matters, is largely influenced by the hardware that is available."
      ]
    },
    {
      "cell_type": "code",
      "execution_count": 9,
      "metadata": {
        "colab": {
          "base_uri": "https://localhost:8080/"
        },
        "id": "sMFYDxPdbYHG",
        "outputId": "bff27c4c-5d53-4d25-96f5-ef5c69444d3a"
      },
      "outputs": [
        {
          "name": "stdout",
          "output_type": "stream",
          "text": [
            "Epoch 1/100\n",
            "10/10 [==============================] - 2s 179ms/step - loss: 1.4105 - accuracy: 0.6111 - val_loss: 0.4872 - val_accuracy: 0.8624\n",
            "Epoch 2/100\n",
            "10/10 [==============================] - 1s 147ms/step - loss: 0.4893 - accuracy: 0.8509 - val_loss: 0.3111 - val_accuracy: 0.9082\n",
            "Epoch 3/100\n",
            "10/10 [==============================] - 2s 153ms/step - loss: 0.3537 - accuracy: 0.8962 - val_loss: 0.2523 - val_accuracy: 0.9269\n",
            "Epoch 4/100\n",
            "10/10 [==============================] - 1s 149ms/step - loss: 0.2757 - accuracy: 0.9190 - val_loss: 0.2091 - val_accuracy: 0.9393\n",
            "Epoch 5/100\n",
            "10/10 [==============================] - 1s 143ms/step - loss: 0.2319 - accuracy: 0.9330 - val_loss: 0.1811 - val_accuracy: 0.9474\n",
            "Epoch 6/100\n",
            "10/10 [==============================] - 1s 140ms/step - loss: 0.1996 - accuracy: 0.9415 - val_loss: 0.1600 - val_accuracy: 0.9527\n",
            "Epoch 7/100\n",
            "10/10 [==============================] - 1s 147ms/step - loss: 0.1747 - accuracy: 0.9489 - val_loss: 0.1466 - val_accuracy: 0.9577\n",
            "Epoch 8/100\n",
            "10/10 [==============================] - 1s 143ms/step - loss: 0.1544 - accuracy: 0.9539 - val_loss: 0.1354 - val_accuracy: 0.9607\n",
            "Epoch 9/100\n",
            "10/10 [==============================] - 1s 140ms/step - loss: 0.1401 - accuracy: 0.9587 - val_loss: 0.1231 - val_accuracy: 0.9642\n",
            "Epoch 10/100\n",
            "10/10 [==============================] - 1s 141ms/step - loss: 0.1248 - accuracy: 0.9626 - val_loss: 0.1156 - val_accuracy: 0.9658\n",
            "Epoch 11/100\n",
            "10/10 [==============================] - 1s 138ms/step - loss: 0.1142 - accuracy: 0.9664 - val_loss: 0.1104 - val_accuracy: 0.9677\n",
            "Epoch 12/100\n",
            "10/10 [==============================] - 1s 135ms/step - loss: 0.1040 - accuracy: 0.9687 - val_loss: 0.1044 - val_accuracy: 0.9693\n",
            "Epoch 13/100\n",
            "10/10 [==============================] - 1s 141ms/step - loss: 0.0962 - accuracy: 0.9718 - val_loss: 0.1007 - val_accuracy: 0.9688\n",
            "Epoch 14/100\n",
            "10/10 [==============================] - 1s 138ms/step - loss: 0.0874 - accuracy: 0.9742 - val_loss: 0.0969 - val_accuracy: 0.9703\n",
            "Epoch 15/100\n",
            "10/10 [==============================] - 1s 143ms/step - loss: 0.0812 - accuracy: 0.9760 - val_loss: 0.0926 - val_accuracy: 0.9722\n",
            "Epoch 16/100\n",
            "10/10 [==============================] - 1s 134ms/step - loss: 0.0754 - accuracy: 0.9781 - val_loss: 0.0890 - val_accuracy: 0.9726\n",
            "Epoch 17/100\n",
            "10/10 [==============================] - 1s 144ms/step - loss: 0.0696 - accuracy: 0.9787 - val_loss: 0.0873 - val_accuracy: 0.9735\n",
            "Epoch 18/100\n",
            "10/10 [==============================] - 1s 139ms/step - loss: 0.0637 - accuracy: 0.9812 - val_loss: 0.0844 - val_accuracy: 0.9739\n",
            "Epoch 19/100\n",
            "10/10 [==============================] - 1s 140ms/step - loss: 0.0606 - accuracy: 0.9817 - val_loss: 0.0829 - val_accuracy: 0.9748\n",
            "Epoch 20/100\n",
            "10/10 [==============================] - 1s 141ms/step - loss: 0.0554 - accuracy: 0.9837 - val_loss: 0.0818 - val_accuracy: 0.9756\n",
            "Epoch 21/100\n",
            "10/10 [==============================] - 1s 138ms/step - loss: 0.0524 - accuracy: 0.9841 - val_loss: 0.0803 - val_accuracy: 0.9753\n",
            "Epoch 22/100\n",
            "10/10 [==============================] - 1s 143ms/step - loss: 0.0485 - accuracy: 0.9855 - val_loss: 0.0790 - val_accuracy: 0.9754\n",
            "Epoch 23/100\n",
            "10/10 [==============================] - 1s 137ms/step - loss: 0.0439 - accuracy: 0.9864 - val_loss: 0.0790 - val_accuracy: 0.9762\n",
            "Epoch 24/100\n",
            "10/10 [==============================] - 1s 140ms/step - loss: 0.0426 - accuracy: 0.9866 - val_loss: 0.0774 - val_accuracy: 0.9767\n",
            "Epoch 25/100\n",
            "10/10 [==============================] - 1s 140ms/step - loss: 0.0398 - accuracy: 0.9881 - val_loss: 0.0767 - val_accuracy: 0.9775\n",
            "Epoch 26/100\n",
            "10/10 [==============================] - 1s 143ms/step - loss: 0.0368 - accuracy: 0.9895 - val_loss: 0.0769 - val_accuracy: 0.9776\n",
            "Epoch 27/100\n",
            "10/10 [==============================] - 1s 143ms/step - loss: 0.0353 - accuracy: 0.9897 - val_loss: 0.0751 - val_accuracy: 0.9787\n",
            "Epoch 28/100\n",
            "10/10 [==============================] - 1s 149ms/step - loss: 0.0332 - accuracy: 0.9905 - val_loss: 0.0763 - val_accuracy: 0.9780\n",
            "Epoch 29/100\n",
            "10/10 [==============================] - 1s 138ms/step - loss: 0.0311 - accuracy: 0.9913 - val_loss: 0.0759 - val_accuracy: 0.9783\n",
            "Epoch 30/100\n",
            "10/10 [==============================] - 1s 135ms/step - loss: 0.0299 - accuracy: 0.9912 - val_loss: 0.0743 - val_accuracy: 0.9783\n",
            "Epoch 31/100\n",
            "10/10 [==============================] - 1s 140ms/step - loss: 0.0267 - accuracy: 0.9927 - val_loss: 0.0740 - val_accuracy: 0.9784\n",
            "Epoch 32/100\n",
            "10/10 [==============================] - 1s 145ms/step - loss: 0.0260 - accuracy: 0.9924 - val_loss: 0.0743 - val_accuracy: 0.9790\n",
            "Epoch 33/100\n",
            "10/10 [==============================] - 1s 135ms/step - loss: 0.0252 - accuracy: 0.9927 - val_loss: 0.0739 - val_accuracy: 0.9789\n",
            "Epoch 34/100\n",
            "10/10 [==============================] - 1s 142ms/step - loss: 0.0239 - accuracy: 0.9934 - val_loss: 0.0736 - val_accuracy: 0.9795\n",
            "Epoch 35/100\n",
            "10/10 [==============================] - 1s 136ms/step - loss: 0.0226 - accuracy: 0.9936 - val_loss: 0.0718 - val_accuracy: 0.9801\n",
            "Epoch 36/100\n",
            "10/10 [==============================] - 1s 141ms/step - loss: 0.0214 - accuracy: 0.9938 - val_loss: 0.0719 - val_accuracy: 0.9793\n",
            "Epoch 37/100\n",
            "10/10 [==============================] - 1s 147ms/step - loss: 0.0192 - accuracy: 0.9951 - val_loss: 0.0720 - val_accuracy: 0.9794\n",
            "Epoch 38/100\n",
            "10/10 [==============================] - 1s 146ms/step - loss: 0.0190 - accuracy: 0.9950 - val_loss: 0.0714 - val_accuracy: 0.9799\n",
            "Epoch 39/100\n",
            "10/10 [==============================] - 1s 141ms/step - loss: 0.0179 - accuracy: 0.9951 - val_loss: 0.0734 - val_accuracy: 0.9793\n",
            "Epoch 40/100\n",
            "10/10 [==============================] - 1s 142ms/step - loss: 0.0167 - accuracy: 0.9954 - val_loss: 0.0724 - val_accuracy: 0.9792\n",
            "Epoch 41/100\n",
            "10/10 [==============================] - 1s 137ms/step - loss: 0.0160 - accuracy: 0.9960 - val_loss: 0.0727 - val_accuracy: 0.9795\n",
            "313/313 [==============================] - 1s 4ms/step - loss: 0.0617 - accuracy: 0.9812\n"
          ]
        },
        {
          "data": {
            "image/png": "[encoded data removed]",
            "text/plain": [
              "<Figure size 432x288 with 1 Axes>"
            ]
          },
          "metadata": {
            "needs_background": "light"
          },
          "output_type": "display_data"
        }
      ],
      "source": [
        "# Big Batch\n",
        "model = keras.Sequential()\n",
        "model.add(InputLayer(input_shape=(28, 28)))\n",
        "model.add(Flatten())\n",
        "model.add(Dense(500, activation='relu'))\n",
        "model.add(Dropout(0.2))\n",
        "model.add(Dense(350, activation='relu'))\n",
        "model.add(Dropout(0.2))\n",
        "model.add(Dense(10, activation=\"softmax\"))\n",
        "\n",
        "callback = tf.keras.callbacks.EarlyStopping(monitor='val_loss', patience=3, restore_best_weights=True) \n",
        "\n",
        "# Train the digit classification model\n",
        "model.compile(optimizer='adam', loss=\"categorical_crossentropy\", metrics='accuracy')\n",
        "\n",
        "train_log = model.fit(\n",
        "  train_images,\n",
        "  train_labels,\n",
        "  epochs=100,\n",
        "  batch_size=5000,\n",
        "  validation_split=0.2,\n",
        "  callbacks=[callback]\n",
        ")\n",
        "model.evaluate(test_images, test_labels)\n",
        "plot_loss(train_log)"
      ]
    },
    {
      "cell_type": "code",
      "execution_count": 10,
      "metadata": {
        "colab": {
          "base_uri": "https://localhost:8080/"
        },
        "id": "vbJeAtnDipXo",
        "outputId": "e5abf716-b380-4174-f0df-9611e7689a9b"
      },
      "outputs": [
        {
          "name": "stdout",
          "output_type": "stream",
          "text": [
            "Epoch 1/300\n",
            "24000/24000 [==============================] - 152s 6ms/step - loss: 0.3054 - accuracy: 0.9143 - val_loss: 0.1583 - val_accuracy: 0.9567\n",
            "Epoch 2/300\n",
            "24000/24000 [==============================] - 158s 7ms/step - loss: 0.2233 - accuracy: 0.9446 - val_loss: 0.1630 - val_accuracy: 0.9618\n",
            "Epoch 3/300\n",
            "24000/24000 [==============================] - 157s 7ms/step - loss: 0.2155 - accuracy: 0.9521 - val_loss: 0.1610 - val_accuracy: 0.9644\n",
            "Epoch 4/300\n",
            "24000/24000 [==============================] - 153s 6ms/step - loss: 0.2027 - accuracy: 0.9556 - val_loss: 0.1709 - val_accuracy: 0.9659\n",
            "313/313 [==============================] - 1s 2ms/step - loss: 0.1533 - accuracy: 0.9576\n"
          ]
        },
        {
          "data": {
            "image/png": "[encoded data removed]",
            "text/plain": [
              "<Figure size 432x288 with 1 Axes>"
            ]
          },
          "metadata": {
            "needs_background": "light"
          },
          "output_type": "display_data"
        }
      ],
      "source": [
        "# Small Batch\n",
        "model = keras.Sequential()\n",
        "model.add(InputLayer(input_shape=(28, 28)))\n",
        "model.add(Flatten())\n",
        "model.add(Dense(500, activation='relu'))\n",
        "model.add(Dropout(0.2))\n",
        "model.add(Dense(350, activation='relu'))\n",
        "model.add(Dropout(0.2))\n",
        "model.add(Dense(10, activation=\"softmax\"))\n",
        "\n",
        "callback = tf.keras.callbacks.EarlyStopping(monitor='val_loss', patience=3, restore_best_weights=True) \n",
        "\n",
        "# Train the digit classification model\n",
        "model.compile(optimizer='adam', loss=\"categorical_crossentropy\", metrics='accuracy')\n",
        "\n",
        "# Note: Batch size of 2 is good to test\n",
        "# But it can take a VERY long time, be aggressive with the early stopping\n",
        "train_log = model.fit(\n",
        "  train_images,\n",
        "  train_labels,\n",
        "  epochs=300,\n",
        "  batch_size=2,\n",
        "  validation_split=0.2,\n",
        "  callbacks=[callback]\n",
        ")\n",
        "model.evaluate(test_images, test_labels)\n",
        "plot_loss(train_log)"
      ]
    },
    {
      "attachments": {},
      "cell_type": "markdown",
      "metadata": {
        "id": "bUFvtavwbYHH"
      },
      "source": [
        "## Optimizer\n",
        "\n",
        "Of all options the optimizer is the one we will care about the least. Each different optimizer is a different algorithm for doing the gradient descent. The optimizers have different results with respect to speed, memory usage, computational expense, and likelyhood to get stuck in a local minima. The optimizer is similar to some of the options we saw with logistic regression - there were several solver options for that model, each of which performed the gradient descent process with a slightly different set of calculations. Optimizers tend to manipulate the learning rate, attempting to narrow in on the optimum weights in fewer epochs and thus fewer calculations.\n",
        "\n",
        "![Optimizers](images/optimizers.gif \"Optimizers\")\n",
        "\n",
        "<b>Note:</b> this animation doesn't have Adam, which is unfortumate, but it was the most clear one I could find. The different optimizers are all trying to find the same minimum, and in most cases they all do, but they take differnt paths to get there, over a different number of steps.\n",
        "\n",
        "Adam is a good compromise between all factors and is very commonly used. We'll just use this for our work. One other common one is RMSprop, if you're feeling spicy, give that a try and see if there are any imporvements. These optimizers don't change the model we are making (outside of edge cases, like getting stuck in a minima), they change the process of finding that model. The biggest impact of the optimizer is on the speed of the training process, and in turn the ability to experiment with different models. This is more of a concern as the data gets larger, as small improvements on each individual gradient descent step can add up to large improvements in the overall training time. "
      ]
    },
    {
      "cell_type": "code",
      "execution_count": 11,
      "metadata": {
        "id": "5qIRrRF2bYHH"
      },
      "outputs": [],
      "source": [
        "optimizer_1 = tf.keras.optimizers.Adam()\n",
        "optimizer_2 = tf.keras.optimizers.RMSprop()"
      ]
    },
    {
      "attachments": {},
      "cell_type": "markdown",
      "metadata": {
        "id": "RXb18AySbYHH"
      },
      "source": [
        "## Activation \n",
        "\n",
        "Activation functions are the key to adding non-linearity to the network allowing it to learn complex and non-linear relationships in the data. We've used ReLU as the default and that is a solid choice in most cases. ReLU has one issue, the dying ReLU problem. This can happen when we get inputs to the activation function fall in the negative area. In short there can be neurons that \"die\" and never get updated again because the value becomes 0 and stays 0. These dead neurons are a problem as they now aren't contributing to the learning.\n",
        "\n",
        "![ReLU](images/relu.jpeg \"ReLU\")\n",
        "\n",
        "To combat the dying ReLU problem there are a couple of other activation functions that avoid that issue - Leaky ReLU and ELU. Each one changes the negative values to something other than 0 - Leaky ReLU uses a slight linear gradient, ELU uses an exponential function for a similar, but curved, slight gradient. These ReLU variants are a good choice, and probably the 'best' overall activation functions for most scenarios. One some datasets will be impacted by the dying ReLU problem. \n",
        "\n",
        "These activation function also have an impact on the speed of training. The ReLU function is very fast to calculate, and the Leaky ReLU and ELU functions are a bit slower. Other activation functions may be even more expensive. Will this matter? As with many things, it depends. For the small examples we are using, it probably won't matter much. On very large applications, we may need to consider the ability to train models more quickly, and try more models vs. the improved fit of another activation function.\n",
        "\n",
        "#### Activation Function Guidelines\n",
        "\n",
        "We can write a few rules of thumb to guide us in deciding on activation functions. On the whole, the choice is like a hyperparameter choice, and we want to choose whichever is the best for our data. Some of the guidelines are:\n",
        "<ul>\n",
        "<li> The output layer should have an activation function that matches the type of problem we are solving. \n",
        "    <ul>\n",
        "    <li> <b>Regression:</b> Linear activation function.\n",
        "    <li> <b>Binary Classification:</b> Sigmoid activation function.\n",
        "    <li> <b>Multiclass Classification:</b> Softmax activation function.\n",
        "    </ul>\n",
        "<li> Depending on the type of network/problem, our hidden layers default to different activation functions:\n",
        "    <ul>\n",
        "    <li> <b>Deep Neural Networks:</b> ReLU activation functions.\n",
        "    <li> <b>Convolutional Neural Networks: (Images)</b> ReLU activation functions.\n",
        "    <li> <b>Recurrent Neural Networks:(Seqential, Time Series)</b> Tanh activation function.\n",
        "    </ul>\n",
        "</ul>\n",
        "\n",
        "There are more activation functions, and others are being developed somewhat regularly. If in doubt, just use a ReLU variant. "
      ]
    },
    {
      "cell_type": "code",
      "execution_count": 12,
      "metadata": {
        "colab": {
          "base_uri": "https://localhost:8080/"
        },
        "id": "MQ81hFfxbYHH",
        "outputId": "d9a522ce-4252-4709-cb3a-c5cebfb1f355"
      },
      "outputs": [
        {
          "name": "stdout",
          "output_type": "stream",
          "text": [
            "Epoch 1/10\n",
            "750/750 [==============================] - 6s 8ms/step - loss: 0.2775 - accuracy: 0.9163 - val_loss: 0.1379 - val_accuracy: 0.9603\n",
            "Epoch 2/10\n",
            "750/750 [==============================] - 6s 9ms/step - loss: 0.1436 - accuracy: 0.9575 - val_loss: 0.1315 - val_accuracy: 0.9592\n",
            "Epoch 3/10\n",
            "750/750 [==============================] - 7s 9ms/step - loss: 0.1140 - accuracy: 0.9661 - val_loss: 0.1131 - val_accuracy: 0.9677\n",
            "Epoch 4/10\n",
            "750/750 [==============================] - 7s 9ms/step - loss: 0.0966 - accuracy: 0.9726 - val_loss: 0.1034 - val_accuracy: 0.9715\n",
            "Epoch 5/10\n",
            "750/750 [==============================] - 7s 9ms/step - loss: 0.0868 - accuracy: 0.9739 - val_loss: 0.0998 - val_accuracy: 0.9735\n",
            "Epoch 6/10\n",
            "750/750 [==============================] - 7s 9ms/step - loss: 0.0784 - accuracy: 0.9765 - val_loss: 0.0972 - val_accuracy: 0.9731\n",
            "Epoch 7/10\n",
            "750/750 [==============================] - 7s 9ms/step - loss: 0.0718 - accuracy: 0.9785 - val_loss: 0.1106 - val_accuracy: 0.9707\n",
            "Epoch 8/10\n",
            "750/750 [==============================] - 7s 9ms/step - loss: 0.0682 - accuracy: 0.9797 - val_loss: 0.0962 - val_accuracy: 0.9755\n",
            "Epoch 9/10\n",
            "750/750 [==============================] - 7s 9ms/step - loss: 0.0619 - accuracy: 0.9812 - val_loss: 0.0975 - val_accuracy: 0.9758\n",
            "Epoch 10/10\n",
            "750/750 [==============================] - 7s 10ms/step - loss: 0.0595 - accuracy: 0.9824 - val_loss: 0.1021 - val_accuracy: 0.9757\n",
            "313/313 [==============================] - 1s 3ms/step - loss: 0.0913 - accuracy: 0.9761\n"
          ]
        },
        {
          "data": {
            "image/png": "[encoded data removed]",
            "text/plain": [
              "<Figure size 432x288 with 1 Axes>"
            ]
          },
          "metadata": {
            "needs_background": "light"
          },
          "output_type": "display_data"
        }
      ],
      "source": [
        "# Take a leak \n",
        "model = keras.Sequential()\n",
        "model.add(InputLayer(input_shape=(28, 28)))\n",
        "model.add(Flatten())\n",
        "model.add(Dense(500, activation='leaky_relu'))\n",
        "model.add(Dropout(0.2))\n",
        "model.add(Dense(350, activation='leaky_relu'))\n",
        "model.add(Dropout(0.2))\n",
        "model.add(Dense(10, activation=\"softmax\"))\n",
        "\n",
        "callback = tf.keras.callbacks.EarlyStopping(monitor='val_loss', patience=10, restore_best_weights=True) \n",
        "\n",
        "# Train the digit classification model\n",
        "model.compile(optimizer=optimizer_2, loss=\"categorical_crossentropy\", metrics='accuracy')\n",
        "\n",
        "train_log = model.fit(\n",
        "  train_images,\n",
        "  train_labels,\n",
        "  epochs=10,\n",
        "  batch_size=64,\n",
        "  validation_split=0.2,\n",
        "  callbacks=[callback]\n",
        ")\n",
        "model.evaluate(test_images, test_labels)\n",
        "plot_loss(train_log)"
      ]
    },
    {
      "attachments": {},
      "cell_type": "markdown",
      "metadata": {
        "id": "Gi7DxgCsbYHH"
      },
      "source": [
        "## Initialization\n",
        "\n",
        "The initialization provides the starting point for all the weights and bias values that we start out with. We initially started with random values in the scratch network - this is generally fine, but we can sometimes do better. One specific case where we can do better is when we have data that is highly imbalanced. This is a common problem in things such as fraud detection, where we have a very small number of fraud cases, and a very large number of non-fraud cases. Seeding the model with an \"expectation\" of the bias values can help the model learn faster and converge on an answer more quickly. In cases where we have a lot of data, this can be a big deal. In cases where we may have local minima in the loss curve, this can be significant - the more \"ground\" the gradient descent covers, the greater the odds it encounters a local minima that might be a trap. With imbalenced data, we expect that the model will need to cover a lot of that ground, so starting off with a better bias value can help. \n",
        "\n",
        "### Imbalanced Weighting\n",
        "\n",
        "One application where initialization can help significantly is when dealing with imbalanced data. In this example of credit card fraud (real data that has been put through PCA), very, very few transactions are fraudulent. So we have a very imbalanced target value - the class variable. "
      ]
    },
    {
      "cell_type": "code",
      "execution_count": 13,
      "metadata": {
        "colab": {
          "base_uri": "https://localhost:8080/",
          "height": 299
        },
        "id": "jf84UJGPbYHI",
        "outputId": "8293e2c9-d3ae-45d7-a10d-30eeeeb95c1a"
      },
      "outputs": [
        {
          "data": {
            "text/html": [
              "<div>\n",
              "<style scoped>\n",
              "    .dataframe tbody tr th:only-of-type {\n",
              "        vertical-align: middle;\n",
              "    }\n",
              "\n",
              "    .dataframe tbody tr th {\n",
              "        vertical-align: top;\n",
              "    }\n",
              "\n",
              "    .dataframe thead th {\n",
              "        text-align: right;\n",
              "    }\n",
              "</style>\n",
              "<table border=\"1\" class=\"dataframe\">\n",
              "  <thead>\n",
              "    <tr style=\"text-align: right;\">\n",
              "      <th></th>\n",
              "      <th>Time</th>\n",
              "      <th>V1</th>\n",
              "      <th>V2</th>\n",
              "      <th>V3</th>\n",
              "      <th>V4</th>\n",
              "      <th>V5</th>\n",
              "      <th>V6</th>\n",
              "      <th>V7</th>\n",
              "      <th>V8</th>\n",
              "      <th>V9</th>\n",
              "      <th>...</th>\n",
              "      <th>V21</th>\n",
              "      <th>V22</th>\n",
              "      <th>V23</th>\n",
              "      <th>V24</th>\n",
              "      <th>V25</th>\n",
              "      <th>V26</th>\n",
              "      <th>V27</th>\n",
              "      <th>V28</th>\n",
              "      <th>Amount</th>\n",
              "      <th>Class</th>\n",
              "    </tr>\n",
              "  </thead>\n",
              "  <tbody>\n",
              "    <tr>\n",
              "      <th>0</th>\n",
              "      <td>0.0</td>\n",
              "      <td>-1.359807</td>\n",
              "      <td>-0.072781</td>\n",
              "      <td>2.536347</td>\n",
              "      <td>1.378155</td>\n",
              "      <td>-0.338321</td>\n",
              "      <td>0.462388</td>\n",
              "      <td>0.239599</td>\n",
              "      <td>0.098698</td>\n",
              "      <td>0.363787</td>\n",
              "      <td>...</td>\n",
              "      <td>-0.018307</td>\n",
              "      <td>0.277838</td>\n",
              "      <td>-0.110474</td>\n",
              "      <td>0.066928</td>\n",
              "      <td>0.128539</td>\n",
              "      <td>-0.189115</td>\n",
              "      <td>0.133558</td>\n",
              "      <td>-0.021053</td>\n",
              "      <td>149.62</td>\n",
              "      <td>0</td>\n",
              "    </tr>\n",
              "    <tr>\n",
              "      <th>1</th>\n",
              "      <td>0.0</td>\n",
              "      <td>1.191857</td>\n",
              "      <td>0.266151</td>\n",
              "      <td>0.166480</td>\n",
              "      <td>0.448154</td>\n",
              "      <td>0.060018</td>\n",
              "      <td>-0.082361</td>\n",
              "      <td>-0.078803</td>\n",
              "      <td>0.085102</td>\n",
              "      <td>-0.255425</td>\n",
              "      <td>...</td>\n",
              "      <td>-0.225775</td>\n",
              "      <td>-0.638672</td>\n",
              "      <td>0.101288</td>\n",
              "      <td>-0.339846</td>\n",
              "      <td>0.167170</td>\n",
              "      <td>0.125895</td>\n",
              "      <td>-0.008983</td>\n",
              "      <td>0.014724</td>\n",
              "      <td>2.69</td>\n",
              "      <td>0</td>\n",
              "    </tr>\n",
              "    <tr>\n",
              "      <th>2</th>\n",
              "      <td>1.0</td>\n",
              "      <td>-1.358354</td>\n",
              "      <td>-1.340163</td>\n",
              "      <td>1.773209</td>\n",
              "      <td>0.379780</td>\n",
              "      <td>-0.503198</td>\n",
              "      <td>1.800499</td>\n",
              "      <td>0.791461</td>\n",
              "      <td>0.247676</td>\n",
              "      <td>-1.514654</td>\n",
              "      <td>...</td>\n",
              "      <td>0.247998</td>\n",
              "      <td>0.771679</td>\n",
              "      <td>0.909412</td>\n",
              "      <td>-0.689281</td>\n",
              "      <td>-0.327642</td>\n",
              "      <td>-0.139097</td>\n",
              "      <td>-0.055353</td>\n",
              "      <td>-0.059752</td>\n",
              "      <td>378.66</td>\n",
              "      <td>0</td>\n",
              "    </tr>\n",
              "    <tr>\n",
              "      <th>3</th>\n",
              "      <td>1.0</td>\n",
              "      <td>-0.966272</td>\n",
              "      <td>-0.185226</td>\n",
              "      <td>1.792993</td>\n",
              "      <td>-0.863291</td>\n",
              "      <td>-0.010309</td>\n",
              "      <td>1.247203</td>\n",
              "      <td>0.237609</td>\n",
              "      <td>0.377436</td>\n",
              "      <td>-1.387024</td>\n",
              "      <td>...</td>\n",
              "      <td>-0.108300</td>\n",
              "      <td>0.005274</td>\n",
              "      <td>-0.190321</td>\n",
              "      <td>-1.175575</td>\n",
              "      <td>0.647376</td>\n",
              "      <td>-0.221929</td>\n",
              "      <td>0.062723</td>\n",
              "      <td>0.061458</td>\n",
              "      <td>123.50</td>\n",
              "      <td>0</td>\n",
              "    </tr>\n",
              "    <tr>\n",
              "      <th>4</th>\n",
              "      <td>2.0</td>\n",
              "      <td>-1.158233</td>\n",
              "      <td>0.877737</td>\n",
              "      <td>1.548718</td>\n",
              "      <td>0.403034</td>\n",
              "      <td>-0.407193</td>\n",
              "      <td>0.095921</td>\n",
              "      <td>0.592941</td>\n",
              "      <td>-0.270533</td>\n",
              "      <td>0.817739</td>\n",
              "      <td>...</td>\n",
              "      <td>-0.009431</td>\n",
              "      <td>0.798278</td>\n",
              "      <td>-0.137458</td>\n",
              "      <td>0.141267</td>\n",
              "      <td>-0.206010</td>\n",
              "      <td>0.502292</td>\n",
              "      <td>0.219422</td>\n",
              "      <td>0.215153</td>\n",
              "      <td>69.99</td>\n",
              "      <td>0</td>\n",
              "    </tr>\n",
              "  </tbody>\n",
              "</table>\n",
              "<p>5 rows × 31 columns</p>\n",
              "</div>"
            ],
            "text/plain": [
              "   Time        V1        V2        V3        V4        V5        V6        V7  \\\n",
              "0   0.0 -1.359807 -0.072781  2.536347  1.378155 -0.338321  0.462388  0.239599   \n",
              "1   0.0  1.191857  0.266151  0.166480  0.448154  0.060018 -0.082361 -0.078803   \n",
              "2   1.0 -1.358354 -1.340163  1.773209  0.379780 -0.503198  1.800499  0.791461   \n",
              "3   1.0 -0.966272 -0.185226  1.792993 -0.863291 -0.010309  1.247203  0.237609   \n",
              "4   2.0 -1.158233  0.877737  1.548718  0.403034 -0.407193  0.095921  0.592941   \n",
              "\n",
              "         V8        V9  ...       V21       V22       V23       V24       V25  \\\n",
              "0  0.098698  0.363787  ... -0.018307  0.277838 -0.110474  0.066928  0.128539   \n",
              "1  0.085102 -0.255425  ... -0.225775 -0.638672  0.101288 -0.339846  0.167170   \n",
              "2  0.247676 -1.514654  ...  0.247998  0.771679  0.909412 -0.689281 -0.327642   \n",
              "3  0.377436 -1.387024  ... -0.108300  0.005274 -0.190321 -1.175575  0.647376   \n",
              "4 -0.270533  0.817739  ... -0.009431  0.798278 -0.137458  0.141267 -0.206010   \n",
              "\n",
              "        V26       V27       V28  Amount  Class  \n",
              "0 -0.189115  0.133558 -0.021053  149.62      0  \n",
              "1  0.125895 -0.008983  0.014724    2.69      0  \n",
              "2 -0.139097 -0.055353 -0.059752  378.66      0  \n",
              "3 -0.221929  0.062723  0.061458  123.50      0  \n",
              "4  0.502292  0.219422  0.215153   69.99      0  \n",
              "\n",
              "[5 rows x 31 columns]"
            ]
          },
          "execution_count": 13,
          "metadata": {},
          "output_type": "execute_result"
        }
      ],
      "source": [
        "file = tf.keras.utils\n",
        "raw_df = pd.read_csv('https://storage.googleapis.com/download.tensorflow.org/data/creditcard.csv')\n",
        "raw_df.head()"
      ]
    },
    {
      "cell_type": "markdown",
      "metadata": {},
      "source": [
        "### Count the Target Outcomes\n",
        "\n",
        "Credit card fraud is relatively rare, at least in view of the total number of transactions. We can count up the target values to see exactly what the expected skew is. "
      ]
    },
    {
      "cell_type": "code",
      "execution_count": 14,
      "metadata": {
        "colab": {
          "base_uri": "https://localhost:8080/"
        },
        "id": "Ec08WeQEi_Fz",
        "outputId": "c35fb180-9017-4304-ce29-fd36ca25bfc2"
      },
      "outputs": [
        {
          "name": "stdout",
          "output_type": "stream",
          "text": [
            "Examples:\n",
            "    Total: 284807\n",
            "    Positive: 492 (0.17% of total)\n",
            "\n"
          ]
        }
      ],
      "source": [
        "# Bincount will count the number in each category\n",
        "neg, pos = np.bincount(raw_df['Class'])\n",
        "total = neg + pos\n",
        "print('Examples:\\n    Total: {}\\n    Positive: {} ({:.2f}% of total)\\n'.format(\n",
        "    total, pos, 100 * pos / total))"
      ]
    },
    {
      "cell_type": "markdown",
      "metadata": {
        "id": "9gr-lqY0tHwp"
      },
      "source": [
        "### We Have an Imbalance\n",
        "\n",
        "A big one. "
      ]
    },
    {
      "cell_type": "code",
      "execution_count": 15,
      "metadata": {
        "colab": {
          "base_uri": "https://localhost:8080/"
        },
        "id": "w5S02N45tGfu",
        "outputId": "27b8e170-e838-4c7d-adf1-b9013e4f9a6b"
      },
      "outputs": [
        {
          "data": {
            "text/plain": [
              "0              0.0\n",
              "1              0.0\n",
              "2              1.0\n",
              "3              1.0\n",
              "4              2.0\n",
              "            ...   \n",
              "284802    172786.0\n",
              "284803    172787.0\n",
              "284804    172788.0\n",
              "284805    172788.0\n",
              "284806    172792.0\n",
              "Name: Time, Length: 284807, dtype: float64"
            ]
          },
          "execution_count": 15,
          "metadata": {},
          "output_type": "execute_result"
        }
      ],
      "source": [
        "# pop just removes a column. The equivalent of how we normally drop. \n",
        "# the TF docs commonly use this, so I've left it as is. \n",
        "cleaned_df = raw_df.copy()\n",
        "# You don't want the `Time` column.\n",
        "cleaned_df.pop('Time')"
      ]
    },
    {
      "cell_type": "code",
      "execution_count": 16,
      "metadata": {
        "id": "-3538h2djFHF"
      },
      "outputs": [],
      "source": [
        "# Use a utility from sklearn to split and shuffle your dataset.\n",
        "train_df, test_df = train_test_split(cleaned_df, test_size=0.2)\n",
        "\n",
        "# Form np arrays of labels and features.\n",
        "train_labels = np.array(train_df.pop('Class'))\n",
        "test_labels = np.array(test_df.pop('Class'))\n",
        "\n",
        "train_features = np.array(train_df)\n",
        "test_features = np.array(test_df)"
      ]
    },
    {
      "cell_type": "code",
      "execution_count": 17,
      "metadata": {
        "colab": {
          "base_uri": "https://localhost:8080/"
        },
        "id": "GC5P3kaBjMwN",
        "outputId": "ed06c86d-234b-4045-b4fc-1c117eddf35a"
      },
      "outputs": [
        {
          "name": "stdout",
          "output_type": "stream",
          "text": [
            "Training features shape: (227845, 29)\n",
            "Training labels shape: (227845,)\n",
            "Test features shape: (56962, 29)\n",
            "Test labels shape: (56962,)\n"
          ]
        }
      ],
      "source": [
        "scaler = StandardScaler()\n",
        "train_features = scaler.fit_transform(train_features)\n",
        "test_features = scaler.transform(test_features)\n",
        "\n",
        "#train_features = np.clip(train_features, -5, 5)\n",
        "#test_features = np.clip(test_features, -5, 5)\n",
        "\n",
        "print('Training features shape:', train_features.shape)\n",
        "print('Training labels shape:', train_labels.shape)\n",
        "print('Test features shape:', test_features.shape)\n",
        "print('Test labels shape:', test_labels.shape)"
      ]
    },
    {
      "attachments": {},
      "cell_type": "markdown",
      "metadata": {
        "id": "jtt_zz0HA6Jp"
      },
      "source": [
        "### Create a Biased Model\n",
        "\n",
        "The bias of the data is inserted in the model compilation step on the output layer. What does this do? It preconfigures the output layer to \"expect\" results to be this skewed. Recall that, along with the weight, the bias values are one of the things that is learned in training. By default the initial values are randomized, so the model needs to learn the skew towards the imbalance - if the balance between classes is moderate, that's not a big deal; if the balance is so drastically skewed in one direction, that's less practical. With the preset bias we can speed convergance and likely reduce loss. \n",
        "\n",
        "#### Other Imbalenced Work\n",
        "\n",
        "Other things that we looked at to improve balance such as under/over sampling still works with neural networks as it would with anything else. This is just one nn-specific thing that we can implement with minimal extra work. \n",
        "\n",
        "#### Metrics\n",
        "\n",
        "We can also add a bunch of metrics to what we get returned by creating a list of the metrics that we want. Keras.metrics has a list, they are all the metrics we might expect. "
      ]
    },
    {
      "cell_type": "code",
      "execution_count": 18,
      "metadata": {
        "colab": {
          "base_uri": "https://localhost:8080/"
        },
        "id": "nO7R0L7XjTZv",
        "outputId": "1344b694-02cc-4855-8d0a-30cd56f4e6d7"
      },
      "outputs": [
        {
          "name": "stdout",
          "output_type": "stream",
          "text": [
            "Model: \"sequential_7\"\n",
            "_________________________________________________________________\n",
            " Layer (type)                Output Shape              Param #   \n",
            "=================================================================\n",
            " dense_25 (Dense)            (None, 16)                480       \n",
            "                                                                 \n",
            " dropout_17 (Dropout)        (None, 16)                0         \n",
            "                                                                 \n",
            " dense_26 (Dense)            (None, 1)                 17        \n",
            "                                                                 \n",
            "=================================================================\n",
            "Total params: 497\n",
            "Trainable params: 497\n",
            "Non-trainable params: 0\n",
            "_________________________________________________________________\n",
            "Epoch 1/30\n",
            "2849/2849 [==============================] - 6s 2ms/step - loss: 0.0085 - precision: 0.7943 - recall: 0.3625 - auc: 0.8342 - prc: 0.4442 - val_loss: 0.0041 - val_precision: 0.8980 - val_recall: 0.5641 - val_auc: 0.9291 - val_prc: 0.7633\n",
            "Epoch 2/30\n",
            "2849/2849 [==============================] - 5s 2ms/step - loss: 0.0055 - precision: 0.8342 - recall: 0.5049 - auc: 0.9002 - prc: 0.6221 - val_loss: 0.0037 - val_precision: 0.9167 - val_recall: 0.5641 - val_auc: 0.9293 - val_prc: 0.7810\n",
            "Epoch 3/30\n",
            "2849/2849 [==============================] - 4s 1ms/step - loss: 0.0058 - precision: 0.7989 - recall: 0.4628 - auc: 0.8921 - prc: 0.5937 - val_loss: 0.0041 - val_precision: 0.9250 - val_recall: 0.4744 - val_auc: 0.9162 - val_prc: 0.7594\n",
            "Epoch 4/30\n",
            "2849/2849 [==============================] - 5s 2ms/step - loss: 0.0050 - precision: 0.8426 - recall: 0.5372 - auc: 0.9196 - prc: 0.6519 - val_loss: 0.0034 - val_precision: 0.9231 - val_recall: 0.6154 - val_auc: 0.9356 - val_prc: 0.7988\n",
            "Epoch 5/30\n",
            "2849/2849 [==============================] - 5s 2ms/step - loss: 0.0052 - precision: 0.8226 - recall: 0.4951 - auc: 0.9162 - prc: 0.6343 - val_loss: 0.0036 - val_precision: 0.9333 - val_recall: 0.5385 - val_auc: 0.9355 - val_prc: 0.8068\n",
            "Epoch 6/30\n",
            "2849/2849 [==============================] - 4s 1ms/step - loss: 0.0046 - precision: 0.8267 - recall: 0.5405 - auc: 0.9308 - prc: 0.6707 - val_loss: 0.0037 - val_precision: 0.9333 - val_recall: 0.5385 - val_auc: 0.9292 - val_prc: 0.7976\n",
            "Epoch 7/30\n",
            "2849/2849 [==============================] - 4s 1ms/step - loss: 0.0048 - precision: 0.8402 - recall: 0.5275 - auc: 0.9259 - prc: 0.6646 - val_loss: 0.0034 - val_precision: 0.9184 - val_recall: 0.5769 - val_auc: 0.9290 - val_prc: 0.7834\n",
            "Epoch 8/30\n",
            "2849/2849 [==============================] - 4s 1ms/step - loss: 0.0048 - precision: 0.8429 - recall: 0.5210 - auc: 0.9289 - prc: 0.6477 - val_loss: 0.0036 - val_precision: 0.9149 - val_recall: 0.5513 - val_auc: 0.9293 - val_prc: 0.8070\n",
            "1781/1781 [==============================] - 2s 991us/step - loss: 0.0040 - precision: 0.9130 - recall: 0.6000 - auc: 0.9282 - prc: 0.7656\n"
          ]
        },
        {
          "data": {
            "image/png": "[encoded data removed]",
            "text/plain": [
              "<Figure size 432x288 with 1 Axes>"
            ]
          },
          "metadata": {
            "needs_background": "light"
          },
          "output_type": "display_data"
        }
      ],
      "source": [
        "METRICS = [\n",
        "      #keras.metrics.TruePositives(name='tp'),\n",
        "      #keras.metrics.FalsePositives(name='fp'),\n",
        "      #keras.metrics.TrueNegatives(name='tn'),\n",
        "      #keras.metrics.FalseNegatives(name='fn'), \n",
        "      #keras.metrics.BinaryAccuracy(name='accuracy'),\n",
        "      keras.metrics.Precision(name='precision'),\n",
        "      keras.metrics.Recall(name='recall'),\n",
        "      keras.metrics.AUC(name='auc'),\n",
        "      keras.metrics.AUC(name='prc', curve='PR'), # precision-recall curve\n",
        "]\n",
        "\n",
        "initial_bias = np.log([pos/neg])\n",
        "\n",
        "output_bias = tf.keras.initializers.Constant(initial_bias)\n",
        "model = keras.Sequential()\n",
        "model.add(keras.layers.Dense(16, activation='relu',input_shape=(train_features.shape[-1],)))\n",
        "model.add(keras.layers.Dropout(0.5))\n",
        "model.add(keras.layers.Dense(1, activation='sigmoid', bias_initializer=output_bias))\n",
        "model.summary()\n",
        "\n",
        "callback = tf.keras.callbacks.EarlyStopping(monitor='val_loss', patience=4, restore_best_weights=True) \n",
        "\n",
        "#model.compile(optimizer=keras.optimizers.Adam(learning_rate=1e-3),loss=keras.losses.BinaryCrossentropy(),metrics=metrics)\n",
        "model.compile(optimizer=\"adam\",loss=\"binary_crossentropy\",metrics=METRICS)\n",
        "#Fit\n",
        "train_log = model.fit(\n",
        "  train_features,\n",
        "  train_labels,\n",
        "  epochs=30,\n",
        "  batch_size=64,\n",
        "  validation_split=0.2,\n",
        "  callbacks=[callback]\n",
        ")\n",
        "model.evaluate(test_features, test_labels)\n",
        "plot_loss(train_log)"
      ]
    },
    {
      "attachments": {},
      "cell_type": "markdown",
      "metadata": {
        "id": "NdPzxFgXbYHI"
      },
      "source": [
        "## Pruning\n",
        "\n",
        "We can also use pruning to improve our networks, which is built into Tensorflow and is similar in concept to the tree pruning we did earlier. \n",
        "\n",
        "### Pruning Results\n",
        "\n",
        "Pruning removes the least useful weights, increasing sparsity. These sparse models require less processing (since many calculations will be M * 0) and may be compressed down to take less space in memory. \n",
        "\n",
        "### Smaller Models\n",
        "\n",
        "One other consideration is that we can use pruning to create smaller models that are better able to be executed on weaker hardware. In the context of a full computer, creating a prediction with a neural network is pretty fast. If we want to move the model to small embedded devices though, the memory and processing needs can still be excessive. Some scenarios where this comes up are things like security cameras that can recognize images, robots that can navigate themselves, or evern small computers like a Raspberry Pi. For example, if you have a self driving small car, you may collect training data from the car's camera and sensors (throttle, steering, etc..), train a model that can produce a \"how to drive\" prediction on a computer, then export a condensed version of that model that can run on the car's smaller low powered processor to make the predictions as the car drives. This challenge is magnified if you are dealing with something like video, which can generate 30+ images per second. Small models that are almost as good, but can be run with less compouting power allow the power of neural networks to be expanded to more devices - train on a powerful computer, us on a small and weak computer.\n",
        "\n",
        "We can use the tflite set of tools to create special models that are optimized for lower computing power devices, though we won't explore that here. \n",
        "\n",
        "**Note:** pruning is largely a step that is for deployment of models, as we can make the processing more efficient and the memory required lesser. For us, it isn't the most critical of steps. In general, a smaller model that produces the same or similar accuracy is better, as you can do more with less. The reduction of overfitting and potential accuracy benefits are somewhat secondary to making the model more usable in practice. "
      ]
    },
    {
      "cell_type": "code",
      "execution_count": 19,
      "metadata": {
        "colab": {
          "base_uri": "https://localhost:8080/"
        },
        "id": "0FzYRlh3vtFH",
        "outputId": "3c0d4f0e-029d-4ae8-a0c9-4509b947f236"
      },
      "outputs": [
        {
          "name": "stdout",
          "output_type": "stream",
          "text": [
            "Collecting tensorflow_model_optimization\n",
            "  Downloading tensorflow_model_optimization-0.7.4-py2.py3-none-any.whl (240 kB)\n",
            "     -------------------------------------- 240.6/240.6 kB 3.7 MB/s eta 0:00:00\n",
            "Requirement already satisfied: six~=1.14 in c:\\users\\navne\\anaconda3\\lib\\site-packages (from tensorflow_model_optimization) (1.16.0)\n",
            "Requirement already satisfied: dm-tree~=0.1.1 in c:\\users\\navne\\anaconda3\\lib\\site-packages (from tensorflow_model_optimization) (0.1.8)\n",
            "Requirement already satisfied: absl-py~=1.2 in c:\\users\\navne\\anaconda3\\lib\\site-packages (from tensorflow_model_optimization) (1.4.0)\n",
            "Collecting numpy~=1.23\n",
            "  Using cached numpy-1.24.2-cp39-cp39-win_amd64.whl (14.9 MB)\n",
            "Installing collected packages: numpy, tensorflow_model_optimization\n",
            "  Attempting uninstall: numpy\n",
            "    Found existing installation: numpy 1.21.6\n",
            "    Uninstalling numpy-1.21.6:\n",
            "      Successfully uninstalled numpy-1.21.6\n",
            "Successfully installed numpy-1.24.2 tensorflow_model_optimization-0.7.4\n"
          ]
        },
        {
          "name": "stderr",
          "output_type": "stream",
          "text": [
            "ERROR: pip's dependency resolver does not currently take into account all the packages that are installed. This behaviour is the source of the following dependency conflicts.\n",
            "daal4py 2021.5.0 requires daal==2021.4.0, which is not installed.\n",
            "statsforecast 1.5.0 requires pandas>=1.3.5, but you have pandas 1.3.2 which is incompatible.\n",
            "sktime 0.14.1 requires numpy<1.23,>=1.21.0, but you have numpy 1.24.2 which is incompatible.\n",
            "scipy 1.7.3 requires numpy<1.23.0,>=1.16.5, but you have numpy 1.24.2 which is incompatible.\n",
            "plotly-resampler 0.8.3.1 requires pandas<2.0.0,>=1.3.5, but you have pandas 1.3.2 which is incompatible.\n",
            "numba 0.55.1 requires numpy<1.22,>=1.18, but you have numpy 1.24.2 which is incompatible.\n",
            "arviz 0.11.2 requires typing-extensions<4,>=3.7.4.3, but you have typing-extensions 4.5.0 which is incompatible.\n"
          ]
        }
      ],
      "source": [
        "!pip install tensorflow_model_optimization"
      ]
    },
    {
      "cell_type": "code",
      "execution_count": 20,
      "metadata": {
        "colab": {
          "base_uri": "https://localhost:8080/"
        },
        "id": "RrXm0AC9bYHI",
        "outputId": "72e2ad31-aa4f-4760-d10c-615ce87eb5ae"
      },
      "outputs": [
        {
          "name": "stdout",
          "output_type": "stream",
          "text": [
            "WARNING:tensorflow:From c:\\Users\\navne\\anaconda3\\lib\\site-packages\\tensorflow\\python\\autograph\\pyct\\static_analysis\\liveness.py:83: Analyzer.lamba_check (from tensorflow.python.autograph.pyct.static_analysis.liveness) is deprecated and will be removed after 2023-09-23.\n",
            "Instructions for updating:\n",
            "Lambda fuctions will be no more assumed to be used in the statement where they are used, or at least in the same block. https://github.com/tensorflow/tensorflow/issues/56089\n"
          ]
        },
        {
          "name": "stderr",
          "output_type": "stream",
          "text": [
            "WARNING:tensorflow:From c:\\Users\\navne\\anaconda3\\lib\\site-packages\\tensorflow\\python\\autograph\\pyct\\static_analysis\\liveness.py:83: Analyzer.lamba_check (from tensorflow.python.autograph.pyct.static_analysis.liveness) is deprecated and will be removed after 2023-09-23.\n",
            "Instructions for updating:\n",
            "Lambda fuctions will be no more assumed to be used in the statement where they are used, or at least in the same block. https://github.com/tensorflow/tensorflow/issues/56089\n"
          ]
        },
        {
          "name": "stdout",
          "output_type": "stream",
          "text": [
            "Model: \"sequential_7\"\n",
            "_________________________________________________________________\n",
            " Layer (type)                Output Shape              Param #   \n",
            "=================================================================\n",
            " prune_low_magnitude_dense_2  (None, 16)               946       \n",
            " 5 (PruneLowMagnitude)                                           \n",
            "                                                                 \n",
            " prune_low_magnitude_dropout  (None, 16)               1         \n",
            " _17 (PruneLowMagnitude)                                         \n",
            "                                                                 \n",
            " prune_low_magnitude_dense_2  (None, 1)                35        \n",
            " 6 (PruneLowMagnitude)                                           \n",
            "                                                                 \n",
            "=================================================================\n",
            "Total params: 982\n",
            "Trainable params: 497\n",
            "Non-trainable params: 485\n",
            "_________________________________________________________________\n"
          ]
        }
      ],
      "source": [
        "import tensorflow_model_optimization as tfmot\n",
        "\n",
        "prune_low_magnitude = tfmot.sparsity.keras.prune_low_magnitude\n",
        "model_for_pruning = prune_low_magnitude(model)\n",
        "\n",
        "\n",
        "model_for_pruning.compile(optimizer=\"adam\",loss=\"binary_crossentropy\",metrics=METRICS)\n",
        "\n",
        "model_for_pruning.summary()"
      ]
    },
    {
      "cell_type": "code",
      "execution_count": 21,
      "metadata": {
        "colab": {
          "base_uri": "https://localhost:8080/"
        },
        "id": "X3sPhB8EbYHI",
        "outputId": "be02d7f7-896a-4d1b-8041-6f476ee62c4e"
      },
      "outputs": [
        {
          "name": "stdout",
          "output_type": "stream",
          "text": [
            "Epoch 1/20\n",
            "2849/2849 [==============================] - 8s 2ms/step - loss: 0.0109 - precision: 0.9041 - recall: 0.1594 - auc: 0.6143 - prc: 0.2065 - val_loss: 0.0104 - val_precision: 0.0000e+00 - val_recall: 0.0000e+00 - val_auc: 0.5000 - val_prc: 0.0017\n",
            "Epoch 2/20\n",
            "2849/2849 [==============================] - 5s 2ms/step - loss: 0.0100 - precision: 0.0000e+00 - recall: 0.0000e+00 - auc: 0.7239 - prc: 0.0253 - val_loss: 0.0094 - val_precision: 0.0000e+00 - val_recall: 0.0000e+00 - val_auc: 0.9218 - val_prc: 0.3133\n",
            "Epoch 3/20\n",
            "2849/2849 [==============================] - 5s 2ms/step - loss: 0.0093 - precision: 0.0000e+00 - recall: 0.0000e+00 - auc: 0.9208 - prc: 0.0432 - val_loss: 0.0087 - val_precision: 0.0000e+00 - val_recall: 0.0000e+00 - val_auc: 0.9352 - val_prc: 0.5749\n",
            "Epoch 4/20\n",
            "2849/2849 [==============================] - 5s 2ms/step - loss: 0.0087 - precision: 0.0000e+00 - recall: 0.0000e+00 - auc: 0.9275 - prc: 0.0598 - val_loss: 0.0080 - val_precision: 0.0000e+00 - val_recall: 0.0000e+00 - val_auc: 0.9351 - val_prc: 0.5825\n",
            "Epoch 5/20\n",
            "2849/2849 [==============================] - 5s 2ms/step - loss: 0.0082 - precision: 0.0000e+00 - recall: 0.0000e+00 - auc: 0.9403 - prc: 0.0712 - val_loss: 0.0077 - val_precision: 0.0000e+00 - val_recall: 0.0000e+00 - val_auc: 0.9355 - val_prc: 0.6558\n",
            "Epoch 6/20\n",
            "2849/2849 [==============================] - 5s 2ms/step - loss: 0.0078 - precision: 0.0000e+00 - recall: 0.0000e+00 - auc: 0.9394 - prc: 0.0956 - val_loss: 0.0071 - val_precision: 0.0000e+00 - val_recall: 0.0000e+00 - val_auc: 0.9289 - val_prc: 0.6623\n",
            "Epoch 7/20\n",
            "2849/2849 [==============================] - 5s 2ms/step - loss: 0.0075 - precision: 0.0000e+00 - recall: 0.0000e+00 - auc: 0.9339 - prc: 0.1088 - val_loss: 0.0068 - val_precision: 0.0000e+00 - val_recall: 0.0000e+00 - val_auc: 0.9289 - val_prc: 0.6782\n",
            "Epoch 8/20\n",
            "2849/2849 [==============================] - 5s 2ms/step - loss: 0.0074 - precision: 0.0000e+00 - recall: 0.0000e+00 - auc: 0.9412 - prc: 0.1278 - val_loss: 0.0065 - val_precision: 0.0000e+00 - val_recall: 0.0000e+00 - val_auc: 0.9291 - val_prc: 0.7262\n",
            "Epoch 9/20\n",
            "2849/2849 [==============================] - 5s 2ms/step - loss: 0.0072 - precision: 0.0000e+00 - recall: 0.0000e+00 - auc: 0.9351 - prc: 0.1326 - val_loss: 0.0064 - val_precision: 0.0000e+00 - val_recall: 0.0000e+00 - val_auc: 0.9353 - val_prc: 0.6787\n",
            "Epoch 10/20\n",
            "2849/2849 [==============================] - 4s 2ms/step - loss: 0.0070 - precision: 0.0000e+00 - recall: 0.0000e+00 - auc: 0.9339 - prc: 0.1526 - val_loss: 0.0062 - val_precision: 0.0000e+00 - val_recall: 0.0000e+00 - val_auc: 0.9354 - val_prc: 0.6969\n",
            "Epoch 11/20\n",
            "2849/2849 [==============================] - 4s 1ms/step - loss: 0.0070 - precision: 0.0000e+00 - recall: 0.0000e+00 - auc: 0.9358 - prc: 0.1618 - val_loss: 0.0061 - val_precision: 0.0000e+00 - val_recall: 0.0000e+00 - val_auc: 0.9356 - val_prc: 0.7234\n",
            "Epoch 12/20\n",
            "2849/2849 [==============================] - 4s 1ms/step - loss: 0.0067 - precision: 0.0000e+00 - recall: 0.0000e+00 - auc: 0.9406 - prc: 0.1506 - val_loss: 0.0059 - val_precision: 0.0000e+00 - val_recall: 0.0000e+00 - val_auc: 0.9355 - val_prc: 0.7403\n",
            "Epoch 13/20\n",
            "2849/2849 [==============================] - 4s 2ms/step - loss: 0.0067 - precision: 0.0000e+00 - recall: 0.0000e+00 - auc: 0.9361 - prc: 0.1600 - val_loss: 0.0058 - val_precision: 0.0000e+00 - val_recall: 0.0000e+00 - val_auc: 0.9355 - val_prc: 0.7380\n",
            "Epoch 14/20\n",
            "2849/2849 [==============================] - 4s 1ms/step - loss: 0.0066 - precision: 0.0000e+00 - recall: 0.0000e+00 - auc: 0.9425 - prc: 0.1669 - val_loss: 0.0059 - val_precision: 0.0000e+00 - val_recall: 0.0000e+00 - val_auc: 0.9356 - val_prc: 0.7429\n",
            "Epoch 15/20\n",
            "2849/2849 [==============================] - 4s 1ms/step - loss: 0.0067 - precision: 0.0000e+00 - recall: 0.0000e+00 - auc: 0.9378 - prc: 0.1669 - val_loss: 0.0058 - val_precision: 0.0000e+00 - val_recall: 0.0000e+00 - val_auc: 0.9354 - val_prc: 0.7488\n",
            "Epoch 16/20\n",
            "2849/2849 [==============================] - 4s 1ms/step - loss: 0.0067 - precision: 0.0000e+00 - recall: 0.0000e+00 - auc: 0.9348 - prc: 0.1732 - val_loss: 0.0059 - val_precision: 0.0000e+00 - val_recall: 0.0000e+00 - val_auc: 0.9292 - val_prc: 0.7399\n",
            "Epoch 17/20\n",
            "2849/2849 [==============================] - 4s 1ms/step - loss: 0.0063 - precision: 0.0000e+00 - recall: 0.0000e+00 - auc: 0.9401 - prc: 0.1836 - val_loss: 0.0057 - val_precision: 0.0000e+00 - val_recall: 0.0000e+00 - val_auc: 0.9356 - val_prc: 0.7640\n",
            "Epoch 18/20\n",
            "2849/2849 [==============================] - 4s 1ms/step - loss: 0.0065 - precision: 0.0000e+00 - recall: 0.0000e+00 - auc: 0.9317 - prc: 0.1691 - val_loss: 0.0057 - val_precision: 0.0000e+00 - val_recall: 0.0000e+00 - val_auc: 0.9292 - val_prc: 0.7342\n",
            "Epoch 19/20\n",
            "2849/2849 [==============================] - 4s 1ms/step - loss: 0.0066 - precision: 0.0000e+00 - recall: 0.0000e+00 - auc: 0.9316 - prc: 0.1724 - val_loss: 0.0056 - val_precision: 0.0000e+00 - val_recall: 0.0000e+00 - val_auc: 0.9355 - val_prc: 0.7269\n",
            "Epoch 20/20\n",
            "2849/2849 [==============================] - 4s 1ms/step - loss: 0.0067 - precision: 0.0000e+00 - recall: 0.0000e+00 - auc: 0.9332 - prc: 0.1689 - val_loss: 0.0056 - val_precision: 0.0000e+00 - val_recall: 0.0000e+00 - val_auc: 0.9354 - val_prc: 0.7479\n",
            "1781/1781 [==============================] - 2s 1ms/step - loss: 0.0063 - precision: 0.0000e+00 - recall: 0.0000e+00 - auc: 0.9280 - prc: 0.7112\n",
            "[0.006313257850706577, 0.0, 0.0, 0.9279956817626953, 0.7111782431602478]\n"
          ]
        },
        {
          "data": {
            "image/png": "[encoded data removed]",
            "text/plain": [
              "<Figure size 432x288 with 1 Axes>"
            ]
          },
          "metadata": {
            "needs_background": "light"
          },
          "output_type": "display_data"
        }
      ],
      "source": [
        "# Add Callbacks\n",
        "callbacks = [\n",
        "  tfmot.sparsity.keras.UpdatePruningStep(),\n",
        "  tf.keras.callbacks.EarlyStopping(monitor='val_loss', patience=8, restore_best_weights=True)\n",
        "]\n",
        "\n",
        "train_log = model_for_pruning.fit(\n",
        "                                  train_features,\n",
        "                                  train_labels,\n",
        "                                  batch_size=64,\n",
        "                                  epochs=20,\n",
        "                                  validation_split=.2,\n",
        "                                  callbacks=callbacks\n",
        "                                  )\n",
        "print(model_for_pruning.evaluate(test_features, test_labels))\n",
        "plot_loss(train_log)"
      ]
    },
    {
      "attachments": {},
      "cell_type": "markdown",
      "metadata": {},
      "source": [
        "## Exercise\n",
        "\n",
        "Predict the price of diamonds! (The example solutions are fairly extreme in terms of the approach they take, you'll probably be ok with less dramatic approaches.)\n",
        "\n",
        "![Diamonds](images/diamonds.jpeg \"Diamonds\" )"
      ]
    },
    {
      "cell_type": "code",
      "execution_count": 22,
      "metadata": {},
      "outputs": [
        {
          "data": {
            "text/html": [
              "<div>\n",
              "<style scoped>\n",
              "    .dataframe tbody tr th:only-of-type {\n",
              "        vertical-align: middle;\n",
              "    }\n",
              "\n",
              "    .dataframe tbody tr th {\n",
              "        vertical-align: top;\n",
              "    }\n",
              "\n",
              "    .dataframe thead th {\n",
              "        text-align: right;\n",
              "    }\n",
              "</style>\n",
              "<table border=\"1\" class=\"dataframe\">\n",
              "  <thead>\n",
              "    <tr style=\"text-align: right;\">\n",
              "      <th></th>\n",
              "      <th>carat</th>\n",
              "      <th>depth</th>\n",
              "      <th>table</th>\n",
              "      <th>price</th>\n",
              "      <th>x</th>\n",
              "      <th>y</th>\n",
              "      <th>z</th>\n",
              "      <th>cut_Ideal</th>\n",
              "      <th>cut_Premium</th>\n",
              "      <th>cut_Very Good</th>\n",
              "      <th>...</th>\n",
              "      <th>color_I</th>\n",
              "      <th>color_J</th>\n",
              "      <th>clarity_IF</th>\n",
              "      <th>clarity_VVS1</th>\n",
              "      <th>clarity_VVS2</th>\n",
              "      <th>clarity_VS1</th>\n",
              "      <th>clarity_VS2</th>\n",
              "      <th>clarity_SI1</th>\n",
              "      <th>clarity_SI2</th>\n",
              "      <th>clarity_I1</th>\n",
              "    </tr>\n",
              "  </thead>\n",
              "  <tbody>\n",
              "    <tr>\n",
              "      <th>0</th>\n",
              "      <td>0.23</td>\n",
              "      <td>61.5</td>\n",
              "      <td>55.0</td>\n",
              "      <td>326</td>\n",
              "      <td>3.95</td>\n",
              "      <td>3.98</td>\n",
              "      <td>2.43</td>\n",
              "      <td>1</td>\n",
              "      <td>0</td>\n",
              "      <td>0</td>\n",
              "      <td>...</td>\n",
              "      <td>0</td>\n",
              "      <td>0</td>\n",
              "      <td>0</td>\n",
              "      <td>0</td>\n",
              "      <td>0</td>\n",
              "      <td>0</td>\n",
              "      <td>0</td>\n",
              "      <td>0</td>\n",
              "      <td>1</td>\n",
              "      <td>0</td>\n",
              "    </tr>\n",
              "    <tr>\n",
              "      <th>1</th>\n",
              "      <td>0.21</td>\n",
              "      <td>59.8</td>\n",
              "      <td>61.0</td>\n",
              "      <td>326</td>\n",
              "      <td>3.89</td>\n",
              "      <td>3.84</td>\n",
              "      <td>2.31</td>\n",
              "      <td>0</td>\n",
              "      <td>1</td>\n",
              "      <td>0</td>\n",
              "      <td>...</td>\n",
              "      <td>0</td>\n",
              "      <td>0</td>\n",
              "      <td>0</td>\n",
              "      <td>0</td>\n",
              "      <td>0</td>\n",
              "      <td>0</td>\n",
              "      <td>0</td>\n",
              "      <td>1</td>\n",
              "      <td>0</td>\n",
              "      <td>0</td>\n",
              "    </tr>\n",
              "    <tr>\n",
              "      <th>2</th>\n",
              "      <td>0.23</td>\n",
              "      <td>56.9</td>\n",
              "      <td>65.0</td>\n",
              "      <td>327</td>\n",
              "      <td>4.05</td>\n",
              "      <td>4.07</td>\n",
              "      <td>2.31</td>\n",
              "      <td>0</td>\n",
              "      <td>0</td>\n",
              "      <td>0</td>\n",
              "      <td>...</td>\n",
              "      <td>0</td>\n",
              "      <td>0</td>\n",
              "      <td>0</td>\n",
              "      <td>0</td>\n",
              "      <td>0</td>\n",
              "      <td>1</td>\n",
              "      <td>0</td>\n",
              "      <td>0</td>\n",
              "      <td>0</td>\n",
              "      <td>0</td>\n",
              "    </tr>\n",
              "    <tr>\n",
              "      <th>3</th>\n",
              "      <td>0.29</td>\n",
              "      <td>62.4</td>\n",
              "      <td>58.0</td>\n",
              "      <td>334</td>\n",
              "      <td>4.20</td>\n",
              "      <td>4.23</td>\n",
              "      <td>2.63</td>\n",
              "      <td>0</td>\n",
              "      <td>1</td>\n",
              "      <td>0</td>\n",
              "      <td>...</td>\n",
              "      <td>1</td>\n",
              "      <td>0</td>\n",
              "      <td>0</td>\n",
              "      <td>0</td>\n",
              "      <td>0</td>\n",
              "      <td>0</td>\n",
              "      <td>1</td>\n",
              "      <td>0</td>\n",
              "      <td>0</td>\n",
              "      <td>0</td>\n",
              "    </tr>\n",
              "    <tr>\n",
              "      <th>4</th>\n",
              "      <td>0.31</td>\n",
              "      <td>63.3</td>\n",
              "      <td>58.0</td>\n",
              "      <td>335</td>\n",
              "      <td>4.34</td>\n",
              "      <td>4.35</td>\n",
              "      <td>2.75</td>\n",
              "      <td>0</td>\n",
              "      <td>0</td>\n",
              "      <td>0</td>\n",
              "      <td>...</td>\n",
              "      <td>0</td>\n",
              "      <td>1</td>\n",
              "      <td>0</td>\n",
              "      <td>0</td>\n",
              "      <td>0</td>\n",
              "      <td>0</td>\n",
              "      <td>0</td>\n",
              "      <td>0</td>\n",
              "      <td>1</td>\n",
              "      <td>0</td>\n",
              "    </tr>\n",
              "  </tbody>\n",
              "</table>\n",
              "<p>5 rows × 27 columns</p>\n",
              "</div>"
            ],
            "text/plain": [
              "   carat  depth  table  price     x     y     z  cut_Ideal  cut_Premium  \\\n",
              "0   0.23   61.5   55.0    326  3.95  3.98  2.43          1            0   \n",
              "1   0.21   59.8   61.0    326  3.89  3.84  2.31          0            1   \n",
              "2   0.23   56.9   65.0    327  4.05  4.07  2.31          0            0   \n",
              "3   0.29   62.4   58.0    334  4.20  4.23  2.63          0            1   \n",
              "4   0.31   63.3   58.0    335  4.34  4.35  2.75          0            0   \n",
              "\n",
              "   cut_Very Good  ...  color_I  color_J  clarity_IF  clarity_VVS1  \\\n",
              "0              0  ...        0        0           0             0   \n",
              "1              0  ...        0        0           0             0   \n",
              "2              0  ...        0        0           0             0   \n",
              "3              0  ...        1        0           0             0   \n",
              "4              0  ...        0        1           0             0   \n",
              "\n",
              "   clarity_VVS2  clarity_VS1  clarity_VS2  clarity_SI1  clarity_SI2  \\\n",
              "0             0            0            0            0            1   \n",
              "1             0            0            0            1            0   \n",
              "2             0            1            0            0            0   \n",
              "3             0            0            1            0            0   \n",
              "4             0            0            0            0            1   \n",
              "\n",
              "   clarity_I1  \n",
              "0           0  \n",
              "1           0  \n",
              "2           0  \n",
              "3           0  \n",
              "4           0  \n",
              "\n",
              "[5 rows x 27 columns]"
            ]
          },
          "execution_count": 22,
          "metadata": {},
          "output_type": "execute_result"
        }
      ],
      "source": [
        "ex_df = sns.load_dataset(\"diamonds\")\n",
        "ex_df = pd.get_dummies(ex_df)\n",
        "ex_df.head()"
      ]
    },
    {
      "cell_type": "code",
      "execution_count": 23,
      "metadata": {},
      "outputs": [
        {
          "data": {
            "text/plain": [
              "26"
            ]
          },
          "execution_count": 23,
          "metadata": {},
          "output_type": "execute_result"
        }
      ],
      "source": [
        "y = ex_df[\"price\"]\n",
        "X = ex_df.drop(columns={\"price\"})\n",
        "X_tr_ex, X_te_ex, y_tr_ex, y_te_ex = train_test_split(X, y)\n",
        "start_width = X.shape[1]\n",
        "start_width"
      ]
    },
    {
      "cell_type": "markdown",
      "metadata": {},
      "source": [
        "#### Generate a Baseline\n",
        "\n",
        "I'll use a different loss - mean absolute percentage. "
      ]
    },
    {
      "cell_type": "code",
      "execution_count": 24,
      "metadata": {},
      "outputs": [],
      "source": [
        "#baseline\n",
        "# Make a model to set a baseline of performance"
      ]
    },
    {
      "cell_type": "markdown",
      "metadata": {},
      "source": [
        "### Attempt Optimization\n",
        "\n",
        "Looks like lots of loss! What to do?\n",
        "\n",
        "Things to try:\n",
        "<ol>\n",
        "<li> Depth.\n",
        "<li> Width. \n",
        "<li> Activations. \n",
        "<li> Batches. \n",
        "</ol>"
      ]
    },
    {
      "cell_type": "code",
      "execution_count": 25,
      "metadata": {},
      "outputs": [],
      "source": [
        "#Comically Deep Model\n"
      ]
    },
    {
      "cell_type": "markdown",
      "metadata": {},
      "source": [
        "##### Try Adding Dropouts\n",
        "\n",
        "We don't have a bunch of overfitting, so we may not expect miracles here... "
      ]
    },
    {
      "cell_type": "code",
      "execution_count": 26,
      "metadata": {},
      "outputs": [],
      "source": [
        "#Comically Deep Model with Dropouts\n"
      ]
    },
    {
      "cell_type": "markdown",
      "metadata": {},
      "source": [
        "##### Taper Model Somewhat"
      ]
    },
    {
      "cell_type": "code",
      "execution_count": 27,
      "metadata": {},
      "outputs": [],
      "source": [
        "#Taper Deep Model\n"
      ]
    }
  ],
  "metadata": {
    "accelerator": "GPU",
    "colab": {
      "name": "keras_optimizations_sol.ipynb",
      "provenance": []
    },
    "kernelspec": {
      "display_name": "Python 3.9.7 ('ml3950')",
      "language": "python",
      "name": "python3"
    },
    "language_info": {
      "codemirror_mode": {
        "name": "ipython",
        "version": 3
      },
      "file_extension": ".py",
      "mimetype": "text/x-python",
      "name": "python",
      "nbconvert_exporter": "python",
      "pygments_lexer": "ipython3",
      "version": "3.9.12"
    },
    "orig_nbformat": 4,
    "vscode": {
      "interpreter": {
        "hash": "4d722d3adfa415172c1f5238b519fb86b488acdae450fd691ab06c09f4ca9173"
      }
    }
  },
  "nbformat": 4,
  "nbformat_minor": 0
}
